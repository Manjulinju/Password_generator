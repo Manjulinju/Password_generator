{
 "cells": [
  {
   "cell_type": "code",
   "execution_count": null,
   "id": "31fb452d",
   "metadata": {},
   "outputs": [],
   "source": [
    "\n",
    "        \n",
    "        \n"
   ]
  },
  {
   "cell_type": "code",
   "execution_count": null,
   "id": "4ec3bb07",
   "metadata": {},
   "outputs": [],
   "source": []
  },
  {
   "cell_type": "markdown",
   "id": "da7d366e",
   "metadata": {},
   "source": [
    "password generatior"
   ]
  },
  {
   "cell_type": "code",
   "execution_count": null,
   "id": "a7c83c17",
   "metadata": {},
   "outputs": [],
   "source": [
    "import string\n",
    "import secrets\n",
    "password_length  = int(input(\"Enter the length of password\"))\n",
    "if(password_length) < 0:\n",
    "    print(\"Enter the length\")\n",
    "elif(password_length) >12:\n",
    "        print(\"Max. length should be 12\")\n",
    "    \n",
    "else:\n",
    "    letters = string.ascii_letters\n",
    "    digits = string.digits\n",
    "    special_char = string.punctuation\n",
    "    alphabet = letters+digits+special_char\n",
    "\n",
    "    pwd=''\n",
    "    for i in range(password_length):\n",
    "        pwd+=''.join(secrets.choice(alphabet))\n",
    "    print(\"Generated password:\",pwd)\n",
    "    \n"
   ]
  },
  {
   "cell_type": "code",
   "execution_count": null,
   "id": "28406194",
   "metadata": {},
   "outputs": [],
   "source": []
  },
  {
   "cell_type": "code",
   "execution_count": null,
   "id": "e61c69ff",
   "metadata": {},
   "outputs": [],
   "source": []
  }
 ],
 "metadata": {
  "kernelspec": {
   "display_name": "Python 3 (ipykernel)",
   "language": "python",
   "name": "python3"
  },
  "language_info": {
   "codemirror_mode": {
    "name": "ipython",
    "version": 3
   },
   "file_extension": ".py",
   "mimetype": "text/x-python",
   "name": "python",
   "nbconvert_exporter": "python",
   "pygments_lexer": "ipython3",
   "version": "3.10.12"
  }
 },
 "nbformat": 4,
 "nbformat_minor": 5
}
